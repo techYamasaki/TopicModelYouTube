{
  "nbformat": 4,
  "nbformat_minor": 0,
  "metadata": {
    "colab": {
      "name": "classification_using_topic.ipynb",
      "provenance": [],
      "collapsed_sections": [],
      "toc_visible": true,
      "authorship_tag": "ABX9TyOIJQaO5Uja7xmL13CyHuVK",
      "include_colab_link": true
    },
    "kernelspec": {
      "name": "python3",
      "display_name": "Python 3"
    }
  },
  "cells": [
    {
      "cell_type": "markdown",
      "metadata": {
        "id": "view-in-github",
        "colab_type": "text"
      },
      "source": [
        "<a href=\"https://colab.research.google.com/github/techYamasaki/topicmodel_YouTube/blob/master/classification_using_topic.ipynb\" target=\"_parent\"><img src=\"https://colab.research.google.com/assets/colab-badge.svg\" alt=\"Open In Colab\"/></a>"
      ]
    },
    {
      "cell_type": "markdown",
      "metadata": {
        "id": "zs4oonKxgQdu",
        "colab_type": "text"
      },
      "source": [
        "# トピック分布で分類(教師あり学習)"
      ]
    },
    {
      "cell_type": "markdown",
      "metadata": {
        "id": "UvUVOKrEgVSk",
        "colab_type": "text"
      },
      "source": [
        "## ランダムフォレスト\n",
        "\n",
        "\n"
      ]
    },
    {
      "cell_type": "code",
      "metadata": {
        "id": "7V7jq1G0RrlN",
        "colab_type": "code",
        "colab": {}
      },
      "source": [
        "import pandas as pd\n",
        "import numpy as np\n",
        "import matplotlib as mpl\n",
        "import matplotlib.pyplot as plt\n",
        "%matplotlib inline\n",
        "import seaborn as sns\n",
        "from sklearn.model_selection import train_test_split\n",
        "from sklearn.metrics import accuracy_score\n",
        "from sklearn.metrics import precision_score\n",
        "from sklearn.ensemble import RandomForestClassifier\n",
        "from sklearn.metrics import confusion_matrix\n",
        "from pandas.plotting import scatter_matrix\n",
        "import pickle"
      ],
      "execution_count": 0,
      "outputs": []
    },
    {
      "cell_type": "code",
      "metadata": {
        "id": "13GEf9vCdpH_",
        "colab_type": "code",
        "colab": {}
      },
      "source": [
        "f = open('topic_evaluation_df.pkl','rb')\n",
        "df = pickle.load(f)"
      ],
      "execution_count": 0,
      "outputs": []
    },
    {
      "cell_type": "code",
      "metadata": {
        "id": "FAbnDXE_eGzn",
        "colab_type": "code",
        "colab": {}
      },
      "source": [
        "tag_id = [[\"peachy\", 1], [\"sports-watch\", 2], [\"dokujo-tsushin\", 3], [\"movie-enter\", 4], [\"smax\", 5], [\"kaden-channel\", 6], [\"topic-news\", 7], [\"it-life-hack\", 8], [\"livedoor-homme\", 9]]"
      ],
      "execution_count": 0,
      "outputs": []
    },
    {
      "cell_type": "code",
      "metadata": {
        "id": "3KLPNVqteMCW",
        "colab_type": "code",
        "colab": {}
      },
      "source": [
        "for i, j in tag_id:\n",
        "  df = df.replace(i, j)"
      ],
      "execution_count": 0,
      "outputs": []
    },
    {
      "cell_type": "code",
      "metadata": {
        "id": "0jWTHUy-ePDc",
        "colab_type": "code",
        "colab": {
          "base_uri": "https://localhost:8080/",
          "height": 419
        },
        "outputId": "2ad08575-de0a-4923-ed23-29b09772b42c"
      },
      "source": [
        "df"
      ],
      "execution_count": 7,
      "outputs": [
        {
          "output_type": "execute_result",
          "data": {
            "text/html": [
              "<div>\n",
              "<style scoped>\n",
              "    .dataframe tbody tr th:only-of-type {\n",
              "        vertical-align: middle;\n",
              "    }\n",
              "\n",
              "    .dataframe tbody tr th {\n",
              "        vertical-align: top;\n",
              "    }\n",
              "\n",
              "    .dataframe thead th {\n",
              "        text-align: right;\n",
              "    }\n",
              "</style>\n",
              "<table border=\"1\" class=\"dataframe\">\n",
              "  <thead>\n",
              "    <tr style=\"text-align: right;\">\n",
              "      <th></th>\n",
              "      <th>tag</th>\n",
              "      <th>Prob_1</th>\n",
              "      <th>Prob_2</th>\n",
              "      <th>Prob_3</th>\n",
              "      <th>Prob_4</th>\n",
              "      <th>Prob_5</th>\n",
              "      <th>Prob_6</th>\n",
              "      <th>Prob_7</th>\n",
              "      <th>Prob_8</th>\n",
              "      <th>Prob_9</th>\n",
              "      <th>Max</th>\n",
              "    </tr>\n",
              "  </thead>\n",
              "  <tbody>\n",
              "    <tr>\n",
              "      <th>0</th>\n",
              "      <td>1</td>\n",
              "      <td>0.000431</td>\n",
              "      <td>0.040790</td>\n",
              "      <td>0.817148</td>\n",
              "      <td>0.053855</td>\n",
              "      <td>0.000431</td>\n",
              "      <td>0.000431</td>\n",
              "      <td>0.086052</td>\n",
              "      <td>0.000431</td>\n",
              "      <td>0.000431</td>\n",
              "      <td>3</td>\n",
              "    </tr>\n",
              "    <tr>\n",
              "      <th>1</th>\n",
              "      <td>1</td>\n",
              "      <td>0.000682</td>\n",
              "      <td>0.000682</td>\n",
              "      <td>0.888027</td>\n",
              "      <td>0.000682</td>\n",
              "      <td>0.000682</td>\n",
              "      <td>0.080841</td>\n",
              "      <td>0.027039</td>\n",
              "      <td>0.000682</td>\n",
              "      <td>0.000682</td>\n",
              "      <td>3</td>\n",
              "    </tr>\n",
              "    <tr>\n",
              "      <th>2</th>\n",
              "      <td>1</td>\n",
              "      <td>0.005417</td>\n",
              "      <td>0.105933</td>\n",
              "      <td>0.636622</td>\n",
              "      <td>0.001069</td>\n",
              "      <td>0.001069</td>\n",
              "      <td>0.246683</td>\n",
              "      <td>0.001069</td>\n",
              "      <td>0.001069</td>\n",
              "      <td>0.001069</td>\n",
              "      <td>3</td>\n",
              "    </tr>\n",
              "    <tr>\n",
              "      <th>3</th>\n",
              "      <td>1</td>\n",
              "      <td>0.030825</td>\n",
              "      <td>0.000632</td>\n",
              "      <td>0.262795</td>\n",
              "      <td>0.010233</td>\n",
              "      <td>0.000632</td>\n",
              "      <td>0.223860</td>\n",
              "      <td>0.000632</td>\n",
              "      <td>0.000632</td>\n",
              "      <td>0.469761</td>\n",
              "      <td>9</td>\n",
              "    </tr>\n",
              "    <tr>\n",
              "      <th>4</th>\n",
              "      <td>1</td>\n",
              "      <td>0.045052</td>\n",
              "      <td>0.000708</td>\n",
              "      <td>0.064303</td>\n",
              "      <td>0.557004</td>\n",
              "      <td>0.000708</td>\n",
              "      <td>0.077693</td>\n",
              "      <td>0.000708</td>\n",
              "      <td>0.000708</td>\n",
              "      <td>0.253116</td>\n",
              "      <td>4</td>\n",
              "    </tr>\n",
              "    <tr>\n",
              "      <th>...</th>\n",
              "      <td>...</td>\n",
              "      <td>...</td>\n",
              "      <td>...</td>\n",
              "      <td>...</td>\n",
              "      <td>...</td>\n",
              "      <td>...</td>\n",
              "      <td>...</td>\n",
              "      <td>...</td>\n",
              "      <td>...</td>\n",
              "      <td>...</td>\n",
              "      <td>...</td>\n",
              "    </tr>\n",
              "    <tr>\n",
              "      <th>2452</th>\n",
              "      <td>9</td>\n",
              "      <td>0.052172</td>\n",
              "      <td>0.083330</td>\n",
              "      <td>0.207653</td>\n",
              "      <td>0.084319</td>\n",
              "      <td>0.043012</td>\n",
              "      <td>0.089368</td>\n",
              "      <td>0.246881</td>\n",
              "      <td>0.000517</td>\n",
              "      <td>0.192749</td>\n",
              "      <td>7</td>\n",
              "    </tr>\n",
              "    <tr>\n",
              "      <th>2453</th>\n",
              "      <td>9</td>\n",
              "      <td>0.011476</td>\n",
              "      <td>0.035340</td>\n",
              "      <td>0.214161</td>\n",
              "      <td>0.220526</td>\n",
              "      <td>0.034873</td>\n",
              "      <td>0.128699</td>\n",
              "      <td>0.100163</td>\n",
              "      <td>0.022829</td>\n",
              "      <td>0.231933</td>\n",
              "      <td>9</td>\n",
              "    </tr>\n",
              "    <tr>\n",
              "      <th>2454</th>\n",
              "      <td>9</td>\n",
              "      <td>0.000253</td>\n",
              "      <td>0.035027</td>\n",
              "      <td>0.279798</td>\n",
              "      <td>0.164305</td>\n",
              "      <td>0.000253</td>\n",
              "      <td>0.231488</td>\n",
              "      <td>0.037285</td>\n",
              "      <td>0.000253</td>\n",
              "      <td>0.251336</td>\n",
              "      <td>3</td>\n",
              "    </tr>\n",
              "    <tr>\n",
              "      <th>2455</th>\n",
              "      <td>9</td>\n",
              "      <td>0.001049</td>\n",
              "      <td>0.001049</td>\n",
              "      <td>0.238624</td>\n",
              "      <td>0.187617</td>\n",
              "      <td>0.308268</td>\n",
              "      <td>0.001049</td>\n",
              "      <td>0.001049</td>\n",
              "      <td>0.001049</td>\n",
              "      <td>0.260248</td>\n",
              "      <td>5</td>\n",
              "    </tr>\n",
              "    <tr>\n",
              "      <th>2456</th>\n",
              "      <td>9</td>\n",
              "      <td>0.000307</td>\n",
              "      <td>0.198407</td>\n",
              "      <td>0.122998</td>\n",
              "      <td>0.146978</td>\n",
              "      <td>0.000307</td>\n",
              "      <td>0.244794</td>\n",
              "      <td>0.170967</td>\n",
              "      <td>0.008326</td>\n",
              "      <td>0.106917</td>\n",
              "      <td>6</td>\n",
              "    </tr>\n",
              "  </tbody>\n",
              "</table>\n",
              "<p>2457 rows × 11 columns</p>\n",
              "</div>"
            ],
            "text/plain": [
              "      tag    Prob_1    Prob_2    Prob_3  ...    Prob_7    Prob_8    Prob_9  Max\n",
              "0       1  0.000431  0.040790  0.817148  ...  0.086052  0.000431  0.000431    3\n",
              "1       1  0.000682  0.000682  0.888027  ...  0.027039  0.000682  0.000682    3\n",
              "2       1  0.005417  0.105933  0.636622  ...  0.001069  0.001069  0.001069    3\n",
              "3       1  0.030825  0.000632  0.262795  ...  0.000632  0.000632  0.469761    9\n",
              "4       1  0.045052  0.000708  0.064303  ...  0.000708  0.000708  0.253116    4\n",
              "...   ...       ...       ...       ...  ...       ...       ...       ...  ...\n",
              "2452    9  0.052172  0.083330  0.207653  ...  0.246881  0.000517  0.192749    7\n",
              "2453    9  0.011476  0.035340  0.214161  ...  0.100163  0.022829  0.231933    9\n",
              "2454    9  0.000253  0.035027  0.279798  ...  0.037285  0.000253  0.251336    3\n",
              "2455    9  0.001049  0.001049  0.238624  ...  0.001049  0.001049  0.260248    5\n",
              "2456    9  0.000307  0.198407  0.122998  ...  0.170967  0.008326  0.106917    6\n",
              "\n",
              "[2457 rows x 11 columns]"
            ]
          },
          "metadata": {
            "tags": []
          },
          "execution_count": 7
        }
      ]
    },
    {
      "cell_type": "code",
      "metadata": {
        "id": "NgLkmlnreckR",
        "colab_type": "code",
        "colab": {
          "base_uri": "https://localhost:8080/",
          "height": 419
        },
        "outputId": "509bb432-4c99-43a8-ad3a-79d062f1b3c9"
      },
      "source": [
        "df.drop(\"Max\", axis=1)"
      ],
      "execution_count": 8,
      "outputs": [
        {
          "output_type": "execute_result",
          "data": {
            "text/html": [
              "<div>\n",
              "<style scoped>\n",
              "    .dataframe tbody tr th:only-of-type {\n",
              "        vertical-align: middle;\n",
              "    }\n",
              "\n",
              "    .dataframe tbody tr th {\n",
              "        vertical-align: top;\n",
              "    }\n",
              "\n",
              "    .dataframe thead th {\n",
              "        text-align: right;\n",
              "    }\n",
              "</style>\n",
              "<table border=\"1\" class=\"dataframe\">\n",
              "  <thead>\n",
              "    <tr style=\"text-align: right;\">\n",
              "      <th></th>\n",
              "      <th>tag</th>\n",
              "      <th>Prob_1</th>\n",
              "      <th>Prob_2</th>\n",
              "      <th>Prob_3</th>\n",
              "      <th>Prob_4</th>\n",
              "      <th>Prob_5</th>\n",
              "      <th>Prob_6</th>\n",
              "      <th>Prob_7</th>\n",
              "      <th>Prob_8</th>\n",
              "      <th>Prob_9</th>\n",
              "    </tr>\n",
              "  </thead>\n",
              "  <tbody>\n",
              "    <tr>\n",
              "      <th>0</th>\n",
              "      <td>1</td>\n",
              "      <td>0.000431</td>\n",
              "      <td>0.040790</td>\n",
              "      <td>0.817148</td>\n",
              "      <td>0.053855</td>\n",
              "      <td>0.000431</td>\n",
              "      <td>0.000431</td>\n",
              "      <td>0.086052</td>\n",
              "      <td>0.000431</td>\n",
              "      <td>0.000431</td>\n",
              "    </tr>\n",
              "    <tr>\n",
              "      <th>1</th>\n",
              "      <td>1</td>\n",
              "      <td>0.000682</td>\n",
              "      <td>0.000682</td>\n",
              "      <td>0.888027</td>\n",
              "      <td>0.000682</td>\n",
              "      <td>0.000682</td>\n",
              "      <td>0.080841</td>\n",
              "      <td>0.027039</td>\n",
              "      <td>0.000682</td>\n",
              "      <td>0.000682</td>\n",
              "    </tr>\n",
              "    <tr>\n",
              "      <th>2</th>\n",
              "      <td>1</td>\n",
              "      <td>0.005417</td>\n",
              "      <td>0.105933</td>\n",
              "      <td>0.636622</td>\n",
              "      <td>0.001069</td>\n",
              "      <td>0.001069</td>\n",
              "      <td>0.246683</td>\n",
              "      <td>0.001069</td>\n",
              "      <td>0.001069</td>\n",
              "      <td>0.001069</td>\n",
              "    </tr>\n",
              "    <tr>\n",
              "      <th>3</th>\n",
              "      <td>1</td>\n",
              "      <td>0.030825</td>\n",
              "      <td>0.000632</td>\n",
              "      <td>0.262795</td>\n",
              "      <td>0.010233</td>\n",
              "      <td>0.000632</td>\n",
              "      <td>0.223860</td>\n",
              "      <td>0.000632</td>\n",
              "      <td>0.000632</td>\n",
              "      <td>0.469761</td>\n",
              "    </tr>\n",
              "    <tr>\n",
              "      <th>4</th>\n",
              "      <td>1</td>\n",
              "      <td>0.045052</td>\n",
              "      <td>0.000708</td>\n",
              "      <td>0.064303</td>\n",
              "      <td>0.557004</td>\n",
              "      <td>0.000708</td>\n",
              "      <td>0.077693</td>\n",
              "      <td>0.000708</td>\n",
              "      <td>0.000708</td>\n",
              "      <td>0.253116</td>\n",
              "    </tr>\n",
              "    <tr>\n",
              "      <th>...</th>\n",
              "      <td>...</td>\n",
              "      <td>...</td>\n",
              "      <td>...</td>\n",
              "      <td>...</td>\n",
              "      <td>...</td>\n",
              "      <td>...</td>\n",
              "      <td>...</td>\n",
              "      <td>...</td>\n",
              "      <td>...</td>\n",
              "      <td>...</td>\n",
              "    </tr>\n",
              "    <tr>\n",
              "      <th>2452</th>\n",
              "      <td>9</td>\n",
              "      <td>0.052172</td>\n",
              "      <td>0.083330</td>\n",
              "      <td>0.207653</td>\n",
              "      <td>0.084319</td>\n",
              "      <td>0.043012</td>\n",
              "      <td>0.089368</td>\n",
              "      <td>0.246881</td>\n",
              "      <td>0.000517</td>\n",
              "      <td>0.192749</td>\n",
              "    </tr>\n",
              "    <tr>\n",
              "      <th>2453</th>\n",
              "      <td>9</td>\n",
              "      <td>0.011476</td>\n",
              "      <td>0.035340</td>\n",
              "      <td>0.214161</td>\n",
              "      <td>0.220526</td>\n",
              "      <td>0.034873</td>\n",
              "      <td>0.128699</td>\n",
              "      <td>0.100163</td>\n",
              "      <td>0.022829</td>\n",
              "      <td>0.231933</td>\n",
              "    </tr>\n",
              "    <tr>\n",
              "      <th>2454</th>\n",
              "      <td>9</td>\n",
              "      <td>0.000253</td>\n",
              "      <td>0.035027</td>\n",
              "      <td>0.279798</td>\n",
              "      <td>0.164305</td>\n",
              "      <td>0.000253</td>\n",
              "      <td>0.231488</td>\n",
              "      <td>0.037285</td>\n",
              "      <td>0.000253</td>\n",
              "      <td>0.251336</td>\n",
              "    </tr>\n",
              "    <tr>\n",
              "      <th>2455</th>\n",
              "      <td>9</td>\n",
              "      <td>0.001049</td>\n",
              "      <td>0.001049</td>\n",
              "      <td>0.238624</td>\n",
              "      <td>0.187617</td>\n",
              "      <td>0.308268</td>\n",
              "      <td>0.001049</td>\n",
              "      <td>0.001049</td>\n",
              "      <td>0.001049</td>\n",
              "      <td>0.260248</td>\n",
              "    </tr>\n",
              "    <tr>\n",
              "      <th>2456</th>\n",
              "      <td>9</td>\n",
              "      <td>0.000307</td>\n",
              "      <td>0.198407</td>\n",
              "      <td>0.122998</td>\n",
              "      <td>0.146978</td>\n",
              "      <td>0.000307</td>\n",
              "      <td>0.244794</td>\n",
              "      <td>0.170967</td>\n",
              "      <td>0.008326</td>\n",
              "      <td>0.106917</td>\n",
              "    </tr>\n",
              "  </tbody>\n",
              "</table>\n",
              "<p>2457 rows × 10 columns</p>\n",
              "</div>"
            ],
            "text/plain": [
              "      tag    Prob_1    Prob_2    Prob_3  ...    Prob_6    Prob_7    Prob_8    Prob_9\n",
              "0       1  0.000431  0.040790  0.817148  ...  0.000431  0.086052  0.000431  0.000431\n",
              "1       1  0.000682  0.000682  0.888027  ...  0.080841  0.027039  0.000682  0.000682\n",
              "2       1  0.005417  0.105933  0.636622  ...  0.246683  0.001069  0.001069  0.001069\n",
              "3       1  0.030825  0.000632  0.262795  ...  0.223860  0.000632  0.000632  0.469761\n",
              "4       1  0.045052  0.000708  0.064303  ...  0.077693  0.000708  0.000708  0.253116\n",
              "...   ...       ...       ...       ...  ...       ...       ...       ...       ...\n",
              "2452    9  0.052172  0.083330  0.207653  ...  0.089368  0.246881  0.000517  0.192749\n",
              "2453    9  0.011476  0.035340  0.214161  ...  0.128699  0.100163  0.022829  0.231933\n",
              "2454    9  0.000253  0.035027  0.279798  ...  0.231488  0.037285  0.000253  0.251336\n",
              "2455    9  0.001049  0.001049  0.238624  ...  0.001049  0.001049  0.001049  0.260248\n",
              "2456    9  0.000307  0.198407  0.122998  ...  0.244794  0.170967  0.008326  0.106917\n",
              "\n",
              "[2457 rows x 10 columns]"
            ]
          },
          "metadata": {
            "tags": []
          },
          "execution_count": 8
        }
      ]
    },
    {
      "cell_type": "code",
      "metadata": {
        "id": "gAfZRUf8emkz",
        "colab_type": "code",
        "colab": {
          "base_uri": "https://localhost:8080/",
          "height": 187
        },
        "outputId": "ed9507c7-9c47-4dd4-c0d8-11ca040c40a5"
      },
      "source": [
        "# 分類するクラスの種類と数を確認\n",
        "df['tag'].value_counts()"
      ],
      "execution_count": 9,
      "outputs": [
        {
          "output_type": "execute_result",
          "data": {
            "text/plain": [
              "2    300\n",
              "5    290\n",
              "3    290\n",
              "8    290\n",
              "4    290\n",
              "6    288\n",
              "1    281\n",
              "7    257\n",
              "9    171\n",
              "Name: tag, dtype: int64"
            ]
          },
          "metadata": {
            "tags": []
          },
          "execution_count": 9
        }
      ]
    },
    {
      "cell_type": "code",
      "metadata": {
        "id": "0iMCQr1re6im",
        "colab_type": "code",
        "colab": {}
      },
      "source": [
        "# 機械学習のモデルを作成するトレーニング用と評価用の2種類に分割する\n",
        "train_x = df.drop(['tag'], axis=1) # 説明変数のみにする\n",
        "train_y = df['tag'] # 正解クラス\n",
        "(train_x, test_x ,train_y, test_y) = train_test_split(train_x, train_y, test_size = 0.3, random_state = 42)\n",
        "#訓練用の説明変数と正解クラス、評価用の説明変数と正解クラスに分割 "
      ],
      "execution_count": 0,
      "outputs": []
    },
    {
      "cell_type": "code",
      "metadata": {
        "id": "Wz5fXVPzfbuf",
        "colab_type": "code",
        "colab": {
          "base_uri": "https://localhost:8080/",
          "height": 51
        },
        "outputId": "7d53bf4d-d500-48dd-95aa-51f09e2b377c"
      },
      "source": [
        "# 識別モデルの構築\n",
        "random_forest = RandomForestClassifier(max_depth=30, n_estimators=30, random_state=42)\n",
        "random_forest.fit(train_x, train_y)\n",
        "\n",
        "# 予測値算出\n",
        "y_pred = random_forest.predict(test_x)\n",
        "\n",
        "#モデルを作成する段階でのモデルの識別精度\n",
        "trainaccuracy_random_forest = random_forest.score(train_x, train_y)\n",
        "print('TrainAccuracy: {}'.format(trainaccuracy_random_forest))\n",
        "\n",
        "#作成したモデルに学習に使用していない評価用のデータセットを入力し精度を確認\n",
        "accuracy_random_forest = accuracy_score(test_y, y_pred)\n",
        "print('Accuracy: {}'.format(accuracy_random_forest))"
      ],
      "execution_count": 11,
      "outputs": [
        {
          "output_type": "stream",
          "text": [
            "TrainAccuracy: 1.0\n",
            "Accuracy: 0.3224932249322493\n"
          ],
          "name": "stdout"
        }
      ]
    },
    {
      "cell_type": "markdown",
      "metadata": {
        "id": "atgWHwP_g55z",
        "colab_type": "text"
      },
      "source": [
        "## ロジスティック回帰"
      ]
    }
  ]
}